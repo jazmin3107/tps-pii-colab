{
  "nbformat": 4,
  "nbformat_minor": 0,
  "metadata": {
    "colab": {
      "provenance": [],
      "include_colab_link": true
    },
    "kernelspec": {
      "name": "python3",
      "display_name": "Python 3"
    },
    "language_info": {
      "name": "python"
    }
  },
  "cells": [
    {
      "cell_type": "markdown",
      "metadata": {
        "id": "view-in-github",
        "colab_type": "text"
      },
      "source": [
        "<a href=\"https://colab.research.google.com/github/jazmin3107/tps-pii-colab/blob/main/Lista_string_tupla_Pr%C3%A1ctica.ipynb\" target=\"_parent\"><img src=\"https://colab.research.google.com/assets/colab-badge.svg\" alt=\"Open In Colab\"/></a>"
      ]
    },
    {
      "cell_type": "code",
      "execution_count": null,
      "metadata": {
        "id": "8VOD-zpMJovw"
      },
      "outputs": [],
      "source": [
        "# Lista de alumnos\n",
        "alumnos = [\n",
        "    \"Alurralde, Solange Stefania\",\n",
        "    \"Alvarado, Ludmila Del Milagro\",\n",
        "    \"Angel, Camila Juliana\",\n",
        "    \"Arenas, Lucas Gabriel\",\n",
        "    \"Caseres, Maria Antonia\",\n",
        "    \"Castillo, Paulina Milagros\",\n",
        "    \"Correa Segovia, Hugo Mariano\",\n",
        "    \"D Elia, Alvaro Tadeo\",\n",
        "    \"Flores, Victoria Agustina\",\n",
        "    \"Geronimo Soriano, Lizzie Amaya\",\n",
        "    \"GUZMAN, ANGÉLICA MORENA\",\n",
        "    \"Guzman, Jazmin Esmeralda Belen\",\n",
        "    \"Jaime, Anita Maria Belen\",\n",
        "    \"Lacour Polo, Nazarena\",\n",
        "    \"Lascano Guanca, Marcelo Fabricio\",\n",
        "    \"Lezcano, Celia Morena\",\n",
        "    \"Mamani Kynast, Nicolas Mauricio\",\n",
        "    \"Martinez, Tomas Andres\",\n",
        "    \"PORTELLA VALDIVIA, PEDRO FRANCISCO\",\n",
        "    \"Retamal Cisneros, Zacarias Josue\",\n",
        "    \"Rosales, Francisco Gabriel\",\n",
        "    \"Salem Barba, Mahia\",\n",
        "    \"Soto Camara, Agustin Ignacio\",\n",
        "    \"Villalba, Irina\",\n",
        "    \"Voltolini, Emanuel Tobias\",\n",
        "    \"Zalazar, Santino Stefano\",\n",
        "    \"ABUD LASPIUR, LOURDES MARIEL\",\n",
        "    \"Amador, Luana Micaela\",\n",
        "    \"Anaquin, Leonardo Ezequiel\",\n",
        "    \"Araoz Sanchez, Lautaro Nahuel\",\n",
        "    \"Argañaraz, Agostina Abril\",\n",
        "    \"Barrera, Matias Ezequiel\",\n",
        "    \"Barrozo Vedia, Joaquin Nicolas\",\n",
        "    \"Bettinelli, Valentino\",\n",
        "    \"Bracamonte Martinez, Salvador\",\n",
        "    \"Colque Rivero, Ariana Zoe Del Valle\",\n",
        "    \"Diaz, Dulce Maitena\",\n",
        "    \"FIGUEROA, SANTINO JOSUE\",\n",
        "    \"Flores Cardozo, Agustina Tiara\",\n",
        "    \"Gallo, Octavio Ismael\",\n",
        "    \"Galvan, Lourdes Yamila\",\n",
        "    \"Giangreco, Vitto Tomasso\",\n",
        "    \"Grancara, Martina Luna\",\n",
        "    \"Guanca, Sara Elizabeth\",\n",
        "    \"Lopez, Victoria Constanza\",\n",
        "    \"Mamani Garrido, Rosario Agostina\",\n",
        "    \"Marinaro, Martin Ezequiel\",\n",
        "    \"Merluzzi Dagum, Ignacio\",\n",
        "    \"Messina, Martina\",\n",
        "    \"RASUK, KARIM\", \"Rios, Lucia Magali\",\n",
        "    \"Sanchez Flores, Matías Agustín\",\n",
        "    \"Scarano, Renato Marcelo\",\n",
        "    \"Sierra, Lucas Mauricio\",\n",
        "    \"Tapia, Martin Gabriel\",\n",
        "    \"Vilte, Mia Antonella Alondra\",\n",
        "    \"Virgillito, Katya Milena\"\n",
        "]"
      ]
    },
    {
      "cell_type": "markdown",
      "source": [
        "## Dada la lista estudiantes:\n",
        "> - Hacer una celda para resolver cada punto.\n",
        "- El TP resuelto será revisado en tu repositorio, no es necesario que lo envíes, pero sí que lo pushees correctamente.\n",
        "- En la nota inicial se contempla:\n",
        "  - La creación del fork.\n",
        "  - El pusheo de los cambios realizados.\n",
        "  - La resolución de los ejercicios propuestos.\n"
      ],
      "metadata": {
        "id": "rd6Ug6v3J4uN"
      }
    },
    {
      "cell_type": "markdown",
      "source": [
        "1. Reemplaza todos los valores por los que obtengas del método title(). De esta manera tu lista quedara con los datos más homogéneos."
      ],
      "metadata": {
        "id": "wRLng-uURyJ3"
      }
    },
    {
      "cell_type": "code",
      "source": [
        "for i in range(len(alumnos)):\n",
        "  alumnos[i] = alumnos[i].title()"
      ],
      "metadata": {
        "id": "8_-pTJ7UmqPY"
      },
      "execution_count": null,
      "outputs": []
    },
    {
      "cell_type": "code",
      "source": [
        "for alumno in alumnos:\n",
        "  print(alumno)"
      ],
      "metadata": {
        "id": "lrWFYVWS9Vx9"
      },
      "execution_count": null,
      "outputs": []
    },
    {
      "cell_type": "markdown",
      "source": [
        "2. Desarrolla un script que permita ingresar un nombre y muestre cuantas veces aparece este en la lista\n"
      ],
      "metadata": {
        "id": "dYEGkYZyLy9I"
      }
    },
    {
      "cell_type": "code",
      "source": [
        "nombre = input(\"Ingrese un nombre: \").title()\n",
        "nombres = []\n",
        "for alumno in alumnos:\n",
        "  alumno_nombres = alumno.replace(',','').split()\n",
        "  nombres.extend(alumno_nombres)\n",
        "print(f\"El nombre {nombre} parece {nombres.count(nombre)}veces en la lista\")"
      ],
      "metadata": {
        "id": "2EzQjUqbmvTB"
      },
      "execution_count": null,
      "outputs": []
    },
    {
      "cell_type": "markdown",
      "source": [
        "3. Desarrolla un script en python que permita ingresar un nombre y mostrar en que posición de la lista se encuentra el mismo. Realiza las combinaciones necesarias para que no se genere un error si es que el nombre no existe."
      ],
      "metadata": {
        "id": "UW2dlBsGMAte"
      }
    },
    {
      "cell_type": "code",
      "source": [
        "nombre= input(\"Ingrese un nombre: \").title()\n",
        "if nombre in alumnos:\n",
        "  posicion = alumnos.index(nombre)\n",
        "  print(f\"El alumno está en la posicion {posicion}\")\n",
        "else:\n",
        "  print(f\"EL alumno no está en la lista\")"
      ],
      "metadata": {
        "id": "WG4Eae3PnAog"
      },
      "execution_count": null,
      "outputs": []
    },
    {
      "cell_type": "markdown",
      "source": [
        "4. Agrega un nombre al final de la lista, otro al principio y otro en la posición anterior a la de tu nombre en la lista. Tene en cuenta el formato usado para ingresar los datos: \"apellidos, nombres\""
      ],
      "metadata": {
        "id": "kZeEHUYVNwGV"
      }
    },
    {
      "cell_type": "code",
      "source": [
        "# Inserta al final\n",
        "nombres = input(\"Ingrese los nombres del estudiante: \").title()\n",
        "apellidos = input(\"Ingrese los apellidos del estudiante: \").title()\n",
        "nombre_completo = apellidos+\", \"+nombres\n",
        "alumnos.append(nombre_completo)"
      ],
      "metadata": {
        "id": "A9u8sTsKnDEx"
      },
      "execution_count": null,
      "outputs": []
    },
    {
      "cell_type": "code",
      "source": [
        "# Inserta al principio\n",
        "nombres = input(\"Ingrese los nombres del estudiante: \").title()\n",
        "apellidos = input(\"Ingrese los apellidos del estudiante: \").title()\n",
        "nombre_completo = apellidos+\", \"+nombres\n",
        "alumnos.insert(0,nombre_completo)"
      ],
      "metadata": {
        "id": "l2qYjEul-MAT"
      },
      "execution_count": null,
      "outputs": []
    },
    {
      "cell_type": "code",
      "source": [
        "# Antes de mi nombre\n",
        "\n",
        "nombres = input(\"Ingrese los nombres del estudiante: \").title()\n",
        "apellidos = input(\"Ingrese los apellidos del estudiante: \").title()\n",
        "nombre_completo = apellidos+\", \"+nombres\n",
        "\n",
        "\n",
        "nombre= \"Retamal Cisneros, Zacarias Josue\"\n",
        "if nombre in alumnos:\n",
        "  posicion = alumnos.index(nombre)\n",
        "  alumnos.insert(posicion,nombre_completo)\n",
        "else:\n",
        "  print(f\"EL alumno no está en la lista\")"
      ],
      "metadata": {
        "id": "pFo_kXD_-NlR"
      },
      "execution_count": null,
      "outputs": []
    },
    {
      "cell_type": "code",
      "source": [
        "for alumno in alumnos:\n",
        "  print(alumno)"
      ],
      "metadata": {
        "id": "doUxQtFd-dra"
      },
      "execution_count": null,
      "outputs": []
    },
    {
      "cell_type": "markdown",
      "source": [
        "5. Mostrá cada elemento de la lista mientras la vacias usando el metodo pop(). Para lograr esto usá la estructura while.\n",
        "\n",
        "Tene en cuenta que:\n",
        "\n",
        "\n",
        ">```python\n",
        "bool([]) = False\n",
        "```\n",
        "\n"
      ],
      "metadata": {
        "id": "b_we1Oz4OUBN"
      }
    },
    {
      "cell_type": "code",
      "source": [
        "while alumnos:\n",
        "  un_alumno = alumnos.pop()\n",
        "  print(un_alumno)"
      ],
      "metadata": {
        "id": "bjn9DhewPhWF"
      },
      "execution_count": null,
      "outputs": []
    },
    {
      "cell_type": "markdown",
      "source": [
        "6. Crea un menú para ordenar la lista de manera ascendente o descendente. Realiza esta acción y muestra el resultado según la opción elegida por el usuario."
      ],
      "metadata": {
        "id": "xY4BuqGdQBF1"
      }
    },
    {
      "cell_type": "code",
      "source": [
        "print(\"\"\"\n",
        "      a - Ordenar de manera asendente\n",
        "      d - Odenar la lista de manera descendente\n",
        "      Ingrese una opcion:\"\"\")\n",
        "op = input().lower() #A --> a\n",
        "if op == 'a':\n",
        "  alumnos.sort()\n",
        "elif op == 'd':\n",
        "  alumnos.sort(reverse= True)\n",
        "else:\n",
        "  print(\"La opcion ingresada no es correcta\")\n",
        "\n",
        "for alumno in alumnos:\n",
        "  print(alumno)"
      ],
      "metadata": {
        "id": "NKR3ciBKSjhr"
      },
      "execution_count": null,
      "outputs": []
    },
    {
      "cell_type": "markdown",
      "source": [
        "7. - Crea, a partir de la lista estudiantes, una nueva lista tupla_estudiantes que contenga los nombres en formato de tuplas, donde el primer elemento sea el apellido y el segundo el nombre.\n",
        "  - Muestra cada tupla de la nueva lista.\n"
      ],
      "metadata": {
        "id": "7wb4sRbOSkdM"
      }
    },
    {
      "cell_type": "code",
      "source": [
        "tupla_estudiantes = []\n",
        "for alumno in alumnos:\n",
        "  apellido,nombre = alumno.split(',')\n",
        "  nombre = nombre.strip()\n",
        "  tupla_estudiantes.append((apellido,nombre))\n",
        "\n",
        "for alumno in tupla_estudiantes:\n",
        "  print(alumno)"
      ],
      "metadata": {
        "id": "f9v0mfoZS9_s"
      },
      "execution_count": null,
      "outputs": []
    },
    {
      "cell_type": "markdown",
      "source": [
        "8. Crea un menú como el del ejercicio 6, pero ahora permite elegir si ordenar alfabéticamente por nombre o por apellido.\n",
        "> Para resolver este ejercicio, solicitar ayuda en clase o en el foro\n"
      ],
      "metadata": {
        "id": "PziNZOOBS_UQ"
      }
    },
    {
      "cell_type": "code",
      "source": [
        "def segunda_posicion(tupla):\n",
        "  return tupla[1]\n",
        "\n",
        "nombre = ('Alurralde', 'Solange Stefania')\n",
        "print(segunda_posicion(nombre))"
      ],
      "metadata": {
        "id": "v72o7Pix76H9"
      },
      "execution_count": null,
      "outputs": []
    },
    {
      "cell_type": "code",
      "source": [
        "print(\"\"\"\n",
        "an - Ordenar ascendentemente por nombre\n",
        "aa - Ordenar ascendentemente por apellido\n",
        "dn - Ordenar descendentemente por nombre\n",
        "da - Ordenar descendentemente por apellido\n",
        "Ingrese una opcion: \"\"\")\n",
        "op = input().lower()\n",
        "if op == 'an':\n",
        "  tupla_estudiantes.sort(key=segunda_posicion)\n",
        "elif op == 'aa':\n",
        "  tupla_estudiantes.sort()\n",
        "elif op == 'dn':\n",
        "  tupla_estudiantes.sort(key=segunda_posicion,reverse=True)\n",
        "elif op == 'da':\n",
        "  tupla_estudiantes.sort(reverse= True)\n",
        "else:\n",
        "  print(\"La opcion ingresada es incorrecta\")\n",
        "for estudiante in tupla_estudiantes:\n",
        "  print(estudiante)"
      ],
      "metadata": {
        "id": "X7Xu-KyaTWth"
      },
      "execution_count": null,
      "outputs": []
    },
    {
      "cell_type": "markdown",
      "source": [
        "9. Agrega un dato en la posición siguiente a la de tu nombre en el nuevo formato de tupla. Para esto solicita al usuario su nombre y apellido, almacena estos datos en una tupla y agrega la misma a la lista \"tupla_estudiantes\""
      ],
      "metadata": {
        "id": "mtnmvoZ9TXii"
      }
    },
    {
      "cell_type": "code",
      "source": [
        "# Lista inicial de tuplas de estudiantes\n",
        "tupla_estudiantes = []\n",
        "\n",
        "# Solicitar el nombre y apellido al usuario\n",
        "nombre = input(\"Por favor, ingresa tu nombre: \")\n",
        "apellido = input(\"Por favor, ingresa tu apellido: \")\n",
        "\n",
        "# Crear una tupla con el nombre y apellido\n",
        "nuevo_estudiante = (nombre, apellido)\n",
        "\n",
        "# Agregar la tupla a la lista de estudiantes\n",
        "tupla_estudiantes.append(nuevo_estudiante)\n",
        "\n",
        "# Mostrar la lista actualizada\n",
        "print(\"Lista de estudiantes:\", tupla_estudiantes)"
      ],
      "metadata": {
        "id": "RSXz_XcvT0Nc"
      },
      "execution_count": null,
      "outputs": []
    },
    {
      "cell_type": "markdown",
      "source": [
        "10. - Pedir al usuario un nombre y mostrar todos los estudiantes que tengan ese nombre.\n",
        "  - Hacer lo mismo con un apellido.\n"
      ],
      "metadata": {
        "id": "dY4y7OVPT1FT"
      }
    },
    {
      "cell_type": "code",
      "source": [
        "nombre = input(\"Ingrese un nombre:\").title()\n",
        "for alumno in alumnos:\n",
        "  if nombre in alumno:\n",
        "    print(alumno)\n",
        "apellido = input(\" Ingrese un apellido:\").title()\n",
        "for alumno in alumnos:\n",
        "  if apellido in alumno:\n",
        "    print(alumno)"
      ],
      "metadata": {
        "id": "bVTVfjH4VMBM"
      },
      "execution_count": null,
      "outputs": []
    },
    {
      "cell_type": "markdown",
      "source": [
        "11. Pedir un nombre al usuario y eliminar todos los registros donde se encuentre un estudiante con el nombre ingresado.\n"
      ],
      "metadata": {
        "id": "7zdJLrqXVM30"
      }
    },
    {
      "cell_type": "code",
      "source": [
        "# Lista inicial de tuplas de estudiantes\n",
        "tupla_estudiantes = [(\"Juan\", \"Pérez\"), (\"María\", \"Gómez\"), (\"Pedro\", \"López\")]\n",
        "\n",
        "# Solicitar el nombre al usuario\n",
        "nombre_a_eliminar = input(\"Por favor, ingresa el nombre del estudiante a eliminar: \")\n",
        "\n",
        "# Filtrar la lista para eliminar los registros con el nombre ingresado\n",
        "tupla_estudiantes = [estudiante for estudiante in tupla_estudiantes if estudiante[0] != nombre_a_eliminar]\n",
        "\n",
        "# Mostrar la lista actualizada\n",
        "print(\"Lista de estudiantes después de la eliminación:\", tupla_estudiantes)"
      ],
      "metadata": {
        "id": "3_rnimG_VQr6"
      },
      "execution_count": null,
      "outputs": []
    },
    {
      "cell_type": "markdown",
      "source": [
        "12. Pedir dos apellidos al usuario, y reemplazar el primer apellido por el segundo en todos los registros donde se encuentre."
      ],
      "metadata": {
        "id": "DGU_hs0BVRfa"
      }
    },
    {
      "cell_type": "code",
      "source": [
        "primer_apellido = input(\"Ingrese el primer apellido: \").title()\n",
        "segundo_apellido = input(\"Ingrese el segundo apellido: \").title()"
      ],
      "metadata": {
        "id": "ghxBxrzTV6aL"
      },
      "execution_count": null,
      "outputs": []
    },
    {
      "cell_type": "code",
      "source": [
        "# Reemplaza el primer apellido por el segundo en todos los registros donde se encuentre\n",
        "for i in range(len(alumnos)):\n",
        "    if primer_apellido in alumnos[i]:\n",
        "        alumnos[i] = alumnos[i].replace(primer_apellido, segundo_apellido)"
      ],
      "metadata": {
        "id": "Qd7KVeruBQGt"
      },
      "execution_count": null,
      "outputs": []
    },
    {
      "cell_type": "code",
      "source": [
        "# Muestra la lista de estudiantes actualizada\n",
        "for alumno in alumnos:\n",
        "    print(alumno)"
      ],
      "metadata": {
        "id": "bXj_i93RBTHn"
      },
      "execution_count": null,
      "outputs": []
    }
  ]
}